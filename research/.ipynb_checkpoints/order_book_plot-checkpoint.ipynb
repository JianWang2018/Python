{
 "cells": [
  {
   "cell_type": "code",
   "execution_count": 2,
   "metadata": {
    "collapsed": true
   },
   "outputs": [],
   "source": [
    "import numpy as np\n",
    "import time\n",
    "import pandas as pd\n",
    "import matplotlib.pyplot as plt  "
   ]
  },
  {
   "cell_type": "code",
   "execution_count": 9,
   "metadata": {
    "collapsed": false
   },
   "outputs": [
    {
     "name": "stdout",
     "output_type": "stream",
     "text": [
      "The time for reading the CSV file 0.11881256103515625\n"
     ]
    }
   ],
   "source": [
    "#-------------------------------------------------------------------------\n",
    "#%%  set the parameters \n",
    "#Stock name\n",
    "#-------------------------------------------------------------------------\n",
    "ticker =\"AMZN\"\n",
    "\n",
    "\n",
    "#-------------------------------------------------------------------------\n",
    "# Levels\n",
    "#-------------------------------------------------------------------------\n",
    "lvl= 10\n",
    "\n",
    "#-------------------------------------------------------------------------\n",
    "# File names\n",
    "#-------------------------------------------------------------------------\n",
    "path=\"/media/jianwang/b2ba2597-9566-445c-87e6-e801c3aee85d/jian/research/data/order_book/\"\n",
    "path_save=\"/media/jianwang/New Volume/research/order_book/figure/\"\n",
    "name_book    = 'AMZN_2012-06-21_34200000_57600000_orderbook_10.csv'\n",
    "name_mess    = 'AMZN_2012-06-21_34200000_57600000_message_10.csv'\n",
    "\n",
    "#--------------------------------------------------------------------------\n",
    "# Date of files\n",
    "#--------------------------------------------------------------------------\n",
    "demo_date    = [2012,6,21]    #year, month, day\n",
    "\n",
    "#---------------------------------------------------------------------------\n",
    "# Load Messsage File\n",
    "#---------------------------------------------------------------------------\n",
    "#  Load data\n",
    "t=time.time()\n",
    "mess = np.array(pd.read_csv(path+name_mess))\n",
    "print(\"The time for reading the CSV file\",time.time()-t)\n",
    "#\n",
    "#\n",
    "#% Message file information:\n",
    "#% ----------------------------------------------------------\n",
    "#%   \n",
    "#%   - Dimension:    (NumberEvents x 6)\n",
    "#%\n",
    "#%   - Structure:    Each row:\n",
    "#%                   Time stamp (sec after midnight with decimal\n",
    "#%                   precision of at least milliseconds and \n",
    "#%                   up to nanoseconds depending on the period), \n",
    "#%                   Event type, Order ID, Size (# of shares), \n",
    "#%                   Price, Direction\n",
    "#%\n",
    "#%                   Event types: \n",
    "#%                       - '1'   Submission new limit order\n",
    "#%                       - '2'   Cancellation (partial)\n",
    "#%                       - '3'   Deletion (total order)\n",
    "#%                       - '4'   Execution of a visible limit order\n",
    "#%                       - '5'   Execution of a hidden limit order \n",
    "#%                               liquidity\n",
    "#%                       - '7'   Trading Halt (Detailed \n",
    "#%                               information below)\n",
    "#%\n",
    "#%                   Direction:\n",
    "#%                       - '-1'  Sell limit order\n",
    "#%                       - '-2'  Buy limit order\n",
    "#%                       - NOTE: Execution of a sell (buy) \n",
    "#%                               limit order corresponds to \n",
    "#%                               a buyer-(seller-) initiated \n",
    "#%                               trade, i.e. a BUY (SELL) trade. \n",
    "#%\n",
    "#% ----------------------------------------------------------\n",
    "#% Data Preparation - Message File\n",
    "#\n",
    "#% Trading hours (start & end)"
   ]
  },
  {
   "cell_type": "code",
   "execution_count": 5,
   "metadata": {
    "collapsed": false
   },
   "outputs": [
    {
     "name": "stdout",
     "output_type": "stream",
     "text": [
      "No trading halts detected.\n"
     ]
    },
    {
     "name": "stderr",
     "output_type": "stream",
     "text": [
      "/home/jianwang/anaconda3/lib/python3.5/site-packages/ipykernel/__main__.py:133: DeprecationWarning: using a non-integer number instead of an integer will result in an error in the future\n"
     ]
    }
   ],
   "source": [
    "#%% deal with the message data \n",
    "#Remove observations outside the official trading hours\n",
    "# ----------------------------------------------------------\n",
    "\n",
    "#% Trading hours (start & end)\n",
    "start_trad   = 9.5*60*60       # 9:30:00 in sec \n",
    "                               # after midnight\n",
    "end_trad     = 16*60*60        # 16:00:00 in sec \n",
    "                               # after midnight\n",
    "# Get index of observations \n",
    "time_idx=(mess[:,0]>= start_trad) & (mess[:,0]<= end_trad)\n",
    "mess = mess[time_idx,:]\n",
    "\n",
    "\n",
    "##-----------------------------------------------------------\n",
    "#% Note: As the rows of the message and orderbook file\n",
    "#%       correspond to each other, the time index of \n",
    "#%       the message file can also be used to 'cut' \n",
    "#%       the orderbook file.\n",
    "#     \n",
    "#\n",
    "#% Check for trading halts\n",
    "#% ----------------------------------------------------------\n",
    "trade_halt_idx = np.where(mess[:,1] == 7)\n",
    "\n",
    "if (np.size(trade_halt_idx)>0):\n",
    "    print(['Data contains trading halt! Trading halt, '+\n",
    "    'quoting resume, and resume of trading indices in tradeHaltIdx'])    \n",
    "else:\n",
    "    print('No trading halts detected.')\n",
    "#\n",
    "#\n",
    "#%\t\tWhen trading halts, a message of type '7' is written into the \n",
    "#%\t\t'message' file. The corresponding price and trade direction \n",
    "#%\t\tare set to '-1' and all other properties are set to '0'. \n",
    "#%\t\tShould the resume of quoting be indicated by an additional \n",
    "#%\t\tmessage in NASDAQ's Historical TotalView-ITCH files, another \n",
    "#%\t\tmessage of type '7' with price '0' is added to the 'message' \n",
    "#%\t\tfile. Again, the trade direction is set to '-1' and all other \n",
    "#%\t\tfields are set to '0'. \n",
    "#%\t\tWhen trading resumes a message of type '7' and \n",
    "#%\t\tprice '1' (Trade direction '-1' and all other \n",
    "#%\t\tentries '0') is written to the 'message' file. For messages \n",
    "#%\t\tof type '7', the corresponding order book rows contain a \n",
    "#%\t\tduplication of the preceding order book state. The reason \n",
    "#%\t\tfor the trading halt is not included in the output.\n",
    "#% \t\t\t\t\t\t\n",
    "#% \t\t\tExample: Stylized trading halt messages in 'message' file.\t\t\t\t\n",
    "#% \t\t\n",
    "#% \t\t\tHalt: \t\t\t\t36023\t| 7 | 0 | 0 | -1 | -1\n",
    "#% \t\t\t\t\t\t\t\t\t\t\t...\n",
    "#% \t\t\tQuoting: \t\t\t36323 \t| 7 | 0 | 0 | 0  | -1\n",
    "#% \t\t\t\t\t\t\t\t\t\t\t...\n",
    "#% \t\t\tResume Trading:\t\t36723   | 7 | 0 | 0 | 1  | -1\n",
    "#% \t\t\t\t\t\t\t\t\t\t\t...\n",
    "#% \t\t\tThe vertical bars indicate the different columns in the  \n",
    "#% \t\t\tmessage file.\n",
    "#    \n",
    "#% Set Bounds for Intraday Intervals\n",
    "#\n",
    "#% Define interval length\n",
    "\n",
    "freq = 6.5*3600/(5*60)+1  # Interval length in sec, according to the python do not include the endpoint\n",
    "                          # so add 1 in the last \n",
    "\n",
    "time_interval=60*6.5/(freq-1)\n",
    "\n",
    "# Set interval bounds\n",
    "bounds = np.linspace(start_trad,end_trad,freq,endpoint=True)\n",
    "\n",
    "# Number of intervals\n",
    "bl = np.size(bounds,0)\n",
    "\n",
    "# Indices for intervals\n",
    "bound_idx = np.zeros([bl,1])\n",
    "\n",
    "\n",
    "\n",
    "k1 = 0 \n",
    "for k2 in range(0,np.size(mess,0)):\n",
    "    if mess[k2,0] >= bounds[k1]:\n",
    "        bound_idx[k1,0] = k2\n",
    "        k1 = k1+1    \n",
    "bound_idx[bl-1]=mess[len(mess)-1,0]\n",
    "  \n",
    "    \n",
    "#    \n",
    "#% Plot - Number of Executions and Trade Volume by Interval\n",
    "#\n",
    "#% Note: Difference between trades and executions\n",
    "#%\n",
    "#%       The LOBSTER output records limit order executions \n",
    "#%       and not what one might intuitively consider trades. \n",
    "#%\n",
    "#%       Imagine a volume of 1000 is posted at the best ask  \n",
    "#%       price. Further, an incoming market buy order of \n",
    "#%       volume 1000 is executed against the quote.\n",
    "#%\n",
    "#%       The LOBSTER output of this trade depends on the \n",
    "#%       composition of the volume at the best ask price. \n",
    "#%       Take the following two scenarios with the best ask \n",
    "#%       volume consisting of ...\n",
    "#%       (a) 1 sell limit order with volume 1000\n",
    "#%       (b) 5 sell limit orders with volume 200 each \n",
    "#%           (ordered according to time of submission)\n",
    "#%\n",
    "#%       The LOBSTER output for case ...\n",
    "#%       (a) shows one execution of volume 1000. If the \n",
    "#%           incoming market order is matched with one \n",
    "#%           standing limit order, execution and trade\n",
    "#%           coincide.\n",
    "#%       (b) shows 5 executions of volume 200 each with the  \n",
    "#%           same time stamp. The incoming order is matched \n",
    "#%           with 5 standing limit orders and triggers 5  \n",
    "#%           executions.\n",
    "#%\n",
    "#%       Bottom line: \n",
    "#%       LOBSTER records the exact limit orders against \n",
    "#%       which incoming market orders are executed. What \n",
    "#%       might be called 'economic' trade size has to be \n",
    "#%       inferred from the executions.\n",
    "    \n",
    "#% Collection matrix\n",
    "trades_info = np.zeros([bl-1,4])\n",
    "#    % Note: Number visible executions, volume visible \n",
    "#    %       trades, number hidden executions, \n",
    "#    %       volume hidden trades\n",
    "\n",
    "   \n",
    "for k1 in range(0,bl-1):\n",
    " \n",
    "\n",
    "    temp\t= mess[bound_idx[k1]+1:bound_idx[k1+1],[1,3]]\n",
    "\t   \n",
    "    # Visible\n",
    "    temp_vis = temp[temp[:,0]==4,1]\n",
    "    \n",
    "    #% Hidden \n",
    "    temp_hid = temp[temp[:,0]==5,1];\n",
    "    \n",
    "    # Collect information\n",
    "    trades_info[k1,:] = [np.size(temp_vis,0), np.sum(temp_vis),np.size(temp_hid,0), np.sum(temp_hid)]\n",
    "                    \n",
    "    del temp, temp_vis, temp_hid\n",
    "    "
   ]
  },
  {
   "cell_type": "markdown",
   "metadata": {},
   "source": [
    "## plot number of executions \n",
    "\n",
    "show the number of executions for the visible and hidden order books"
   ]
  },
  {
   "cell_type": "code",
   "execution_count": 10,
   "metadata": {
    "collapsed": false,
    "scrolled": false
   },
   "outputs": [
    {
     "data": {
      "image/png": "[encoded data removed]",
      "text/plain": [
       "<matplotlib.figure.Figure at 0x7f2fe91a1588>"
      ]
     },
     "metadata": {},
     "output_type": "display_data"
    }
   ],
   "source": [
    "#%% plot the data \n",
    "#Plot number of executions\n",
    "#------------------------------------------------------------------------------\n",
    "\n",
    "%matplotlib inline\n",
    "fig, ax = plt.subplots()\n",
    "ind=np.arange(np.size(trades_info,0))\n",
    "width=1\n",
    "color=[\"red\",\"blue\"]\n",
    "   #% Visible ...\n",
    "ax.bar(ind,trades_info[:,0],width=width, color=color[0],label=\"Visible\",alpha=0.7)\n",
    "#        title({[ticker ' // ' ...\n",
    "#            datestr(datenum(demoDate),'yyyy-mmm-dd')] ...\n",
    "#            ['Number of Executions per ' ...\n",
    "#            num2str(freq./60) ' min Interval ']});\n",
    "ax.set_xlabel('Interval')\n",
    "ax.set_ylabel('Number of Executions')\n",
    "ax.set_title(ticker+\"@\"+str(demo_date[0])+\"-\"+str(demo_date[1])+\n",
    "\"-\"+str(demo_date[2])+\"\\nNumber of Executions per \"+str(time_interval)+\" minutes interval\")\n",
    "ax.bar(ind,-trades_info[:,2],width=width,color=color[1],label=\"Hidden\");\n",
    "ax.legend(loc=\"upper center\")\n",
    "plt.savefig(path_save+\"num_exec.png\")\n"
   ]
  },
  {
   "cell_type": "markdown",
   "metadata": {},
   "source": [
    "## plot the volume of trades\n",
    "\n",
    "volume of trades, which might not be executed"
   ]
  },
  {
   "cell_type": "code",
   "execution_count": 7,
   "metadata": {
    "collapsed": false
   },
   "outputs": [
    {
     "data": {
      "image/png": "[encoded data removed]",
      "text/plain": [
       "<matplotlib.figure.Figure at 0x7fd31c24ca20>"
      ]
     },
     "metadata": {},
     "output_type": "display_data"
    }
   ],
   "source": [
    "#------------------------------------------------------------------------------\n",
    "#plot the volume of traders\n",
    "#------------------------------------------------------------------------------\n",
    "fig, ax = plt.subplots()\n",
    "ind=np.arange(np.size(trades_info,0))\n",
    "width=1\n",
    "color=[\"red\",\"blue\"]\n",
    "   #% Visible ...\n",
    "ax.bar(ind,trades_info[:,1]/100,width=width, color=color[0],label=\"visible\",alpha=0.7)\n",
    "\n",
    "ax.set_xlabel('Interval')\n",
    "ax.set_ylabel('Number of Trades Trades (X100 shares)')\n",
    "ax.set_title(ticker+\"@\"+str(demo_date[0])+\"-\"+str(demo_date[1])+\n",
    "\"-\"+str(demo_date[2])+\"\\nVolume of trades per \"+str(time_interval)+\" minutes interval\")\n",
    "ax.bar(ind,-trades_info[:,3]/100,width=width,color=color[1],label=\"Hidden\");\n",
    "ax.legend(loc=\"upper center\")\n",
    "plt.savefig(\"/home/jianwang/data/num_trade.png\")\n",
    "plt.show()"
   ]
  },
  {
   "cell_type": "code",
   "execution_count": 8,
   "metadata": {
    "collapsed": false
   },
   "outputs": [
    {
     "name": "stdout",
     "output_type": "stream",
     "text": [
      "The time for reading the CSV file 1.1337120532989502\n"
     ]
    }
   ],
   "source": [
    "t=time.time()\n",
    "book = np.array(pd.read_csv(path+name_book,dtype =\"float64\"))\n",
    "print(\"The time for reading the CSV file\",time.time()-t)\n",
    "book = book[time_idx,:]\n",
    "book[:,::2]=book[:,::2]/10000"
   ]
  },
  {
   "cell_type": "markdown",
   "metadata": {},
   "source": [
    "## plot the snapshot pf the limit order book"
   ]
  },
  {
   "cell_type": "code",
   "execution_count": 9,
   "metadata": {
    "collapsed": true
   },
   "outputs": [],
   "source": [
    "#%% plot the snapshot of the limit order book \n",
    "#------------------------------------------------------------------------------\n",
    "#select a random event to show\n",
    "event_idx= np.random.randint(0, len(book))# note that the randint will not generate the last value\n",
    "\n",
    "ask_price_pos=list(range(0,lvl*4,4))\n",
    "\n",
    "# Note: Pick a randmom row/ event from the order book.\n",
    "# position of variables in the book \n",
    "\n",
    "ask_price_pos = list(range(0,lvl*4,4))\n",
    "\n",
    "ask_vol_pos= [i+1 for i in ask_price_pos]\n",
    "\n",
    "bid_price_pos=[i+2 for i in ask_price_pos]\n",
    "\n",
    "bid_vol_pos=[i+1 for i in bid_price_pos]\n",
    "\n",
    "vol= list(range(1,lvl*4,2))\n",
    "\n",
    "max_price = book[event_idx, ask_price_pos[lvl-1]]+0.01\n",
    "min_price=book[event_idx,bid_price_pos[lvl-1]]-0.01\n",
    "\n",
    "max_vol=max(book[event_idx,vol])\n",
    "\n",
    "mid=0.5*(sum(book[event_idx,[0,2]],2))"
   ]
  },
  {
   "cell_type": "code",
   "execution_count": 10,
   "metadata": {
    "collapsed": false
   },
   "outputs": [
    {
     "data": {
      "image/png": "[encoded data removed]",
      "text/plain": [
       "<matplotlib.figure.Figure at 0x7fd31c0cfe80>"
      ]
     },
     "metadata": {},
     "output_type": "display_data"
    }
   ],
   "source": [
    "#%%plot the Snapshot of the Limit Order Book\n",
    "#------------------------------------------------------------------------------\n",
    "plt.figure()\n",
    "#ask price\n",
    "color=[\"red\",\"blue\"]\n",
    "y_pos=np.arange(11,21)\n",
    "y_value=book[event_idx,ask_vol_pos]\n",
    "plt.barh(y_pos, y_value,alpha=0.7,color=color[0],align=\"center\",label=\"Ask\")\n",
    "#mid price\n",
    "plt.plot([10,40],[10,10],'<g',markersize=10,fillstyle=\"full\",label=\"Mid_price\")\n",
    "#bid price\n",
    "y_pos=np.arange(0,10)\n",
    "y_value=book[event_idx,bid_vol_pos][::-1]\n",
    "plt.barh(y_pos,y_value,alpha=0.7,color=color[1],align=\"center\",label=\"Bid\")\n",
    "#set style\n",
    "y_pos=np.arange(0,21)\n",
    "y_ticks=np.concatenate((book[event_idx,bid_price_pos][::-1],np.array([mid]),book[event_idx,ask_price_pos]),0)\n",
    "plt.yticks(y_pos,y_ticks)\n",
    "plt.xlabel('Volumne')\n",
    "plt.title(ticker+\"@\"+str(demo_date[0])+\"-\"+str(demo_date[1])+\n",
    "\"-\"+str(demo_date[2])+\"\\nLOB Snapshot -Time: \"+str(mess[event_idx,0])+\" Seconds\")\n",
    "plt.ylim([-1,21])\n",
    "plt.legend()\n",
    "plt.show()"
   ]
  },
  {
   "cell_type": "markdown",
   "metadata": {},
   "source": [
    "## plot the relative depth of lob"
   ]
  },
  {
   "cell_type": "code",
   "execution_count": 11,
   "metadata": {
    "collapsed": false
   },
   "outputs": [
    {
     "data": {
      "image/png": "[encoded data removed]",
      "text/plain": [
       "<matplotlib.figure.Figure at 0x7fd31c0c67f0>"
      ]
     },
     "metadata": {},
     "output_type": "display_data"
    }
   ],
   "source": [
    "#%%plot the relative depth in the Limit Oeder Book\n",
    "#------------------------------------------------------------------------------\n",
    "\n",
    "\n",
    "\n",
    "#% Relative volume ...\n",
    "\n",
    "#% Ask\n",
    "book_vol_ask = np.cumsum(book[event_idx,ask_vol_pos])\n",
    "book_vol_ask = book_vol_ask/book_vol_ask[-1]\n",
    "\n",
    "#% Bid\n",
    "book_vol_bid = np.cumsum(book[event_idx,bid_vol_pos])\n",
    "book_vol_bid = book_vol_bid/book_vol_bid[-1]\n",
    "\n",
    "plt.figure()\n",
    "#% Ask\n",
    "plt.step(list(range(1,11)),book_vol_ask,color=\"g\",label=\"Ask Depth\")\n",
    "\n",
    "plt.title(ticker+\"@\"+str(demo_date[0])+\"-\"+str(demo_date[1])+\n",
    "\"-\"+str(demo_date[2])+\"\\nLOB Relative Depth -Time: \"+str(mess[event_idx,0])+\" Seconds\")\n",
    "\n",
    "plt.ylabel('% of Volume')\n",
    "plt.xlabel('Level')\n",
    "\n",
    "plt.xlim([1,10])\n",
    "\n",
    "#Bid\n",
    "plt.step(list(range(1,11)),-book_vol_ask,color=\"r\",label=\"Bid Depth\")\n",
    "\n",
    "#y_pos=np.arange(0,21)\n",
    "y_pos=np.linspace(-1,1,11)\n",
    "plt.yticks(y_pos,[1,0.8,0.6,0.4,0.2,0,0.2,0.4,0.6,0.8,1])\n",
    "plt.ylim([-1,1])\n",
    "\n",
    "plt.show()"
   ]
  }
 ],
 "metadata": {
  "kernelspec": {
   "display_name": "Python 3",
   "language": "python",
   "name": "python3"
  },
  "language_info": {
   "codemirror_mode": {
    "name": "ipython",
    "version": 3
   },
   "file_extension": ".py",
   "mimetype": "text/x-python",
   "name": "python",
   "nbconvert_exporter": "python",
   "pygments_lexer": "ipython3",
   "version": "3.5.2"
  }
 },
 "nbformat": 4,
 "nbformat_minor": 0
}
